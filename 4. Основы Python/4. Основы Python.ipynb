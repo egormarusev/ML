{
 "cells": [
  {
   "cell_type": "markdown",
   "metadata": {},
   "source": [
    "### Почти двойной факториал"
   ]
  },
  {
   "cell_type": "code",
   "execution_count": 23,
   "metadata": {},
   "outputs": [],
   "source": [
    "def almost_double_factorial(n):\n",
    "    if n == 0 or n == 1:\n",
    "        return 1\n",
    "    else:\n",
    "        f = 1\n",
    "        for i in range(1, n + 1):\n",
    "            if (i % 2 != 0):\n",
    "                f *= i\n",
    "        return f"
   ]
  },
  {
   "cell_type": "code",
   "execution_count": 24,
   "metadata": {},
   "outputs": [
    {
     "data": {
      "text/plain": [
       "1"
      ]
     },
     "execution_count": 24,
     "metadata": {},
     "output_type": "execute_result"
    }
   ],
   "source": [
    "almost_double_factorial(2)"
   ]
  },
  {
   "cell_type": "markdown",
   "metadata": {},
   "source": [
    "### Хитрая сортировка"
   ]
  },
  {
   "cell_type": "code",
   "execution_count": 30,
   "metadata": {},
   "outputs": [
    {
     "data": {
      "text/plain": [
       "[('john', 'ABA', 15), ('dave', 'B', 10), ('jane', 'BCD', 12)]"
      ]
     },
     "execution_count": 30,
     "metadata": {},
     "output_type": "execute_result"
    }
   ],
   "source": [
    "items = [\n",
    "    ('john', 'ABA', 15),\n",
    "    ('jane', 'BCD', 12),\n",
    "    ('dave', 'B', 10),\n",
    "]\n",
    "sorted_items = sorted(items, key=lambda x: x[1][-1])\n",
    "sorted_items"
   ]
  },
  {
   "cell_type": "code",
   "execution_count": 29,
   "metadata": {},
   "outputs": [
    {
     "data": {
      "text/plain": [
       "'C'"
      ]
     },
     "execution_count": 29,
     "metadata": {},
     "output_type": "execute_result"
    }
   ],
   "source": [
    "'ABC'[-1]"
   ]
  },
  {
   "cell_type": "markdown",
   "metadata": {},
   "source": [
    "### Слайсы"
   ]
  },
  {
   "cell_type": "code",
   "execution_count": 39,
   "metadata": {},
   "outputs": [
    {
     "data": {
      "text/plain": [
       "[-5, 2, -3, 4, -1]"
      ]
     },
     "execution_count": 39,
     "metadata": {},
     "output_type": "execute_result"
    }
   ],
   "source": [
    "x = [1, 2, 3, 4, 5]\n",
    "x[::-2] = [-1, -3, -5]\n",
    "\n",
    "x\n",
    "#[-5, 2, -3, 4, -1]"
   ]
  },
  {
   "cell_type": "markdown",
   "metadata": {},
   "source": [
    "### Создание массивов"
   ]
  },
  {
   "cell_type": "code",
   "execution_count": 54,
   "metadata": {},
   "outputs": [],
   "source": [
    "def cumsum_and_erase(A, erase = 1):\n",
    "    B = []\n",
    "    sum = 0\n",
    "    for i in A:\n",
    "        sum += i\n",
    "        if sum != erase:\n",
    "            B.append(sum)\n",
    "    return B\n",
    "\n",
    "A = [5, 1, 4, 5, 14] \n",
    "B = cumsum_and_erase(A, erase=10) \n",
    "assert B == [5, 6, 15, 29], \"Something is wrong! Please try again\""
   ]
  },
  {
   "cell_type": "code",
   "execution_count": 53,
   "metadata": {},
   "outputs": [
    {
     "data": {
      "text/plain": [
       "[5, 6, 10, 15, 29]"
      ]
     },
     "execution_count": 53,
     "metadata": {},
     "output_type": "execute_result"
    }
   ],
   "source": [
    "A = [5, 1, 4, 5, 14] \n",
    "B = []\n",
    "sum = 0\n",
    "for i in A:\n",
    "    sum += i\n",
    "    if sum != erase:\n",
    "        B.append(sum)\n"
   ]
  },
  {
   "cell_type": "markdown",
   "metadata": {},
   "source": [
    "### Обработка текста"
   ]
  },
  {
   "cell_type": "code",
   "execution_count": 72,
   "metadata": {},
   "outputs": [
    {
     "data": {
      "text/plain": [
       "['asdasd dasasd', 'asdasdas']"
      ]
     },
     "execution_count": 72,
     "metadata": {},
     "output_type": "execute_result"
    }
   ],
   "source": [
    "a = ['1 thousand devils', 'My name is 9Pasha', 'Room #125 costs $100', '888']\n",
    "b = ['asdasd  12 asdsa2 dasasd', 'asdasdas adad1ad']\n",
    "def process(sentences):\n",
    "    for ind, word in enumerate(sentences):\n",
    "        words = word.split(' ')\n",
    "        sentense = []\n",
    "        for j in words:\n",
    "            if j.isalpha():\n",
    "                sentense.append(j)\n",
    "            sentences[ind] = ' '.join(sentense)\n",
    "            \n",
    "    return sentences\n",
    "process(b)"
   ]
  },
  {
   "cell_type": "markdown",
   "metadata": {},
   "source": [
    "### Собственный класс \"Нейрон\""
   ]
  },
  {
   "cell_type": "code",
   "execution_count": null,
   "metadata": {},
   "outputs": [],
   "source": [
    "class Neuron:\n",
    "\n",
    "    def __init__(self, w, f = lambda x: x):\n",
    "        self.func = f\n",
    "        self.weight = w\n",
    "        self.prev = None\n",
    "\n",
    "    def forward(self, x):\n",
    "        self.prev = x\n",
    "        s = 0\n",
    "        for i in range(len(x)):\n",
    "            s += x[i] * self.weight[i]\n",
    "        return self.func(s)\n",
    "\n",
    "    def backlog(self):\n",
    "        return self.prev"
   ]
  },
  {
   "cell_type": "code",
   "execution_count": 78,
   "metadata": {},
   "outputs": [
    {
     "data": {
      "text/plain": [
       "26"
      ]
     },
     "execution_count": 78,
     "metadata": {},
     "output_type": "execute_result"
    }
   ],
   "source": [
    "a = [1 ,2 , 3]\n",
    "b = [3 , 4, 5]\n",
    "s = 0\n",
    "for i in range(len(a)):\n",
    "    s += a[i]*b[i]\n",
    "s  "
   ]
  }
 ],
 "metadata": {
  "kernelspec": {
   "display_name": "Python 3",
   "language": "python",
   "name": "python3"
  },
  "language_info": {
   "codemirror_mode": {
    "name": "ipython",
    "version": 3
   },
   "file_extension": ".py",
   "mimetype": "text/x-python",
   "name": "python",
   "nbconvert_exporter": "python",
   "pygments_lexer": "ipython3",
   "version": "3.8.5"
  }
 },
 "nbformat": 4,
 "nbformat_minor": 4
}
