{
 "cells": [
  {
   "cell_type": "markdown",
   "metadata": {
    "id": "TK7oX5qdEEYr"
   },
   "source": [
    "<p style=\"align: center;\"><img align=center src=\"https://s8.hostingkartinok.com/uploads/images/2018/08/308b49fcfbc619d629fe4604bceb67ac.jpg\" width=500 height=450/></p>\n",
    "\n",
    "<h3 style=\"text-align: center;\"><b>Школа глубокого обучения ФПМИ МФТИ</b></h3>\n",
    "\n",
    "<h3 style=\"text-align: center;\"><b>Домашнее задание. Продвинутый поток. Весна 2021</b></h3>\n",
    "\n",
    "Это домашнее задание будет посвящено полноценному решению задачи машинного обучения."
   ]
  },
  {
   "cell_type": "markdown",
   "metadata": {
    "id": "zlB-owfaEEYs"
   },
   "source": [
    "Есть две части этого домашнего задания: \n",
    "* Сделать полноценный отчет о вашей работе: как вы обработали данные, какие модели попробовали и какие результаты получились (максимум 10 баллов). За каждую выполненную часть будет начислено определенное количество баллов.\n",
    "* Лучшее решение отправить в соревнование на [kaggle](https://www.kaggle.com/c/advanced-dls-spring-2021/) (максимум 5 баллов). За прохождение определенного порогов будут начисляться баллы.\n",
    "\n",
    "\n",
    "**Обе части будут проверяться в формате peer-review. Т.е. вашу посылку на степик будут проверять несколько других студентов и аггрегация их оценок будет выставлена. В то же время вам тоже нужно будет проверить несколько других учеников.**\n",
    "\n",
    "**Пожалуйста, делайте свою работу чистой и понятной, чтобы облегчить проверку. Если у вас будут проблемы с решением или хочется совета, то пишите в наш чат в телеграме или в лс @runfme. Если вы захотите проаппелировать оценку, то пипшите в лс @runfme.**\n",
    "\n",
    "**Во всех пунктах указания это минимальный набор вещей, которые стоит сделать. Если вы можете сделать какой-то шаг лучше или добавить что-то свое - дерзайте!**"
   ]
  },
  {
   "cell_type": "markdown",
   "metadata": {
    "id": "Tu_JvqcBEN8Y"
   },
   "source": [
    "# Как проверять?\n",
    "\n",
    "Ставьте полный балл, если выполнены все рекомендации или сделано что-то более интересное и сложное. За каждый отсустствующий пункт из рекомендация снижайте 1 балл."
   ]
  },
  {
   "cell_type": "markdown",
   "metadata": {
    "id": "ninJ63mJEEYt"
   },
   "source": [
    "# Метрика\n",
    "\n",
    "Перед решением любой задачи важно понимать, как будет оцениваться ваше решение. В данном случае мы используем стандартную для задачи классификации метрику ROC-AUC. Ее можно вычислить используя только предсказанные вероятности и истинные классы без конкретного порога классификации + она раотает даже если классы в данных сильно несбалансированны (примеров одного класса в десятки раз больше примеров длугого). Именно поэтому она очень удобна для соревнований.\n",
    "\n",
    "Посчитать ее легко:\n"
   ]
  },
  {
   "cell_type": "code",
   "execution_count": 230,
   "metadata": {
    "id": "SQIrka7yEEYu",
    "outputId": "ef45a9f2-7571-47b1-e697-b474b65cb0fb"
   },
   "outputs": [
    {
     "data": {
      "text/plain": [
       "0.8333333333333333"
      ]
     },
     "execution_count": 230,
     "metadata": {},
     "output_type": "execute_result"
    }
   ],
   "source": [
    "from sklearn.metrics import roc_auc_score\n",
    "\n",
    "y_true = [\n",
    "    0,\n",
    "    1,\n",
    "    1,\n",
    "    0,\n",
    "    1\n",
    "]\n",
    "\n",
    "y_predictions = [\n",
    "    0.1,\n",
    "    0.9,\n",
    "    0.4,\n",
    "    0.6,\n",
    "    0.61\n",
    "]\n",
    "\n",
    "roc_auc_score(y_true, y_predictions)"
   ]
  },
  {
   "cell_type": "markdown",
   "metadata": {
    "id": "IrDNNkNTEEYz"
   },
   "source": [
    "# Первая часть. Исследование"
   ]
  },
  {
   "cell_type": "code",
   "execution_count": 231,
   "metadata": {
    "id": "lzLqEeZKEEYz"
   },
   "outputs": [],
   "source": [
    "import pandas as pd\n",
    "import numpy as np\n",
    "from matplotlib import pyplot as plt"
   ]
  },
  {
   "cell_type": "markdown",
   "metadata": {
    "id": "LOlxdURSEEY3"
   },
   "source": [
    "## Загрузка данных (2 балла)\n",
    "\n",
    "1) Посмотрите на случайные строчки. \n",
    "\n",
    "2) Посмотрите, есть ли в датасете незаполненные значения (nan'ы) с помощью data.isna() или data.info() и, если нужно, замените их на что-то. Будет хорошо, если вы построите табличку с количеством nan в каждой колонке."
   ]
  },
  {
   "cell_type": "code",
   "execution_count": 232,
   "metadata": {
    "id": "pw-Brue9EEY3"
   },
   "outputs": [
    {
     "data": {
      "text/html": [
       "<div>\n",
       "<style scoped>\n",
       "    .dataframe tbody tr th:only-of-type {\n",
       "        vertical-align: middle;\n",
       "    }\n",
       "\n",
       "    .dataframe tbody tr th {\n",
       "        vertical-align: top;\n",
       "    }\n",
       "\n",
       "    .dataframe thead th {\n",
       "        text-align: right;\n",
       "    }\n",
       "</style>\n",
       "<table border=\"1\" class=\"dataframe\">\n",
       "  <thead>\n",
       "    <tr style=\"text-align: right;\">\n",
       "      <th></th>\n",
       "      <th>ClientPeriod</th>\n",
       "      <th>MonthlySpending</th>\n",
       "      <th>TotalSpent</th>\n",
       "      <th>Sex</th>\n",
       "      <th>IsSeniorCitizen</th>\n",
       "      <th>HasPartner</th>\n",
       "      <th>HasChild</th>\n",
       "      <th>HasPhoneService</th>\n",
       "      <th>HasMultiplePhoneNumbers</th>\n",
       "      <th>HasInternetService</th>\n",
       "      <th>HasOnlineSecurityService</th>\n",
       "      <th>HasOnlineBackup</th>\n",
       "      <th>HasDeviceProtection</th>\n",
       "      <th>HasTechSupportAccess</th>\n",
       "      <th>HasOnlineTV</th>\n",
       "      <th>HasMovieSubscription</th>\n",
       "      <th>HasContractPhone</th>\n",
       "      <th>IsBillingPaperless</th>\n",
       "      <th>PaymentMethod</th>\n",
       "      <th>Churn</th>\n",
       "    </tr>\n",
       "  </thead>\n",
       "  <tbody>\n",
       "    <tr>\n",
       "      <th>0</th>\n",
       "      <td>55</td>\n",
       "      <td>19.50</td>\n",
       "      <td>1026.35</td>\n",
       "      <td>Male</td>\n",
       "      <td>0</td>\n",
       "      <td>Yes</td>\n",
       "      <td>Yes</td>\n",
       "      <td>Yes</td>\n",
       "      <td>No</td>\n",
       "      <td>No</td>\n",
       "      <td>No internet service</td>\n",
       "      <td>No internet service</td>\n",
       "      <td>No internet service</td>\n",
       "      <td>No internet service</td>\n",
       "      <td>No internet service</td>\n",
       "      <td>No internet service</td>\n",
       "      <td>One year</td>\n",
       "      <td>No</td>\n",
       "      <td>Mailed check</td>\n",
       "      <td>0</td>\n",
       "    </tr>\n",
       "    <tr>\n",
       "      <th>1</th>\n",
       "      <td>72</td>\n",
       "      <td>25.85</td>\n",
       "      <td>1872.2</td>\n",
       "      <td>Male</td>\n",
       "      <td>0</td>\n",
       "      <td>Yes</td>\n",
       "      <td>No</td>\n",
       "      <td>Yes</td>\n",
       "      <td>Yes</td>\n",
       "      <td>No</td>\n",
       "      <td>No internet service</td>\n",
       "      <td>No internet service</td>\n",
       "      <td>No internet service</td>\n",
       "      <td>No internet service</td>\n",
       "      <td>No internet service</td>\n",
       "      <td>No internet service</td>\n",
       "      <td>Two year</td>\n",
       "      <td>No</td>\n",
       "      <td>Credit card (automatic)</td>\n",
       "      <td>0</td>\n",
       "    </tr>\n",
       "    <tr>\n",
       "      <th>2</th>\n",
       "      <td>1</td>\n",
       "      <td>75.90</td>\n",
       "      <td>75.9</td>\n",
       "      <td>Male</td>\n",
       "      <td>0</td>\n",
       "      <td>No</td>\n",
       "      <td>No</td>\n",
       "      <td>Yes</td>\n",
       "      <td>No</td>\n",
       "      <td>Fiber optic</td>\n",
       "      <td>No</td>\n",
       "      <td>No</td>\n",
       "      <td>No</td>\n",
       "      <td>Yes</td>\n",
       "      <td>No</td>\n",
       "      <td>No</td>\n",
       "      <td>Month-to-month</td>\n",
       "      <td>Yes</td>\n",
       "      <td>Electronic check</td>\n",
       "      <td>1</td>\n",
       "    </tr>\n",
       "    <tr>\n",
       "      <th>3</th>\n",
       "      <td>32</td>\n",
       "      <td>79.30</td>\n",
       "      <td>2570</td>\n",
       "      <td>Female</td>\n",
       "      <td>1</td>\n",
       "      <td>Yes</td>\n",
       "      <td>No</td>\n",
       "      <td>Yes</td>\n",
       "      <td>Yes</td>\n",
       "      <td>Fiber optic</td>\n",
       "      <td>No</td>\n",
       "      <td>No</td>\n",
       "      <td>Yes</td>\n",
       "      <td>No</td>\n",
       "      <td>No</td>\n",
       "      <td>No</td>\n",
       "      <td>Month-to-month</td>\n",
       "      <td>No</td>\n",
       "      <td>Mailed check</td>\n",
       "      <td>0</td>\n",
       "    </tr>\n",
       "    <tr>\n",
       "      <th>4</th>\n",
       "      <td>60</td>\n",
       "      <td>115.25</td>\n",
       "      <td>6758.45</td>\n",
       "      <td>Female</td>\n",
       "      <td>0</td>\n",
       "      <td>Yes</td>\n",
       "      <td>Yes</td>\n",
       "      <td>Yes</td>\n",
       "      <td>Yes</td>\n",
       "      <td>Fiber optic</td>\n",
       "      <td>Yes</td>\n",
       "      <td>Yes</td>\n",
       "      <td>Yes</td>\n",
       "      <td>Yes</td>\n",
       "      <td>Yes</td>\n",
       "      <td>Yes</td>\n",
       "      <td>Two year</td>\n",
       "      <td>No</td>\n",
       "      <td>Credit card (automatic)</td>\n",
       "      <td>0</td>\n",
       "    </tr>\n",
       "  </tbody>\n",
       "</table>\n",
       "</div>"
      ],
      "text/plain": [
       "   ClientPeriod  MonthlySpending TotalSpent     Sex  IsSeniorCitizen  \\\n",
       "0            55            19.50    1026.35    Male                0   \n",
       "1            72            25.85     1872.2    Male                0   \n",
       "2             1            75.90       75.9    Male                0   \n",
       "3            32            79.30       2570  Female                1   \n",
       "4            60           115.25    6758.45  Female                0   \n",
       "\n",
       "  HasPartner HasChild HasPhoneService HasMultiplePhoneNumbers  \\\n",
       "0        Yes      Yes             Yes                      No   \n",
       "1        Yes       No             Yes                     Yes   \n",
       "2         No       No             Yes                      No   \n",
       "3        Yes       No             Yes                     Yes   \n",
       "4        Yes      Yes             Yes                     Yes   \n",
       "\n",
       "  HasInternetService HasOnlineSecurityService      HasOnlineBackup  \\\n",
       "0                 No      No internet service  No internet service   \n",
       "1                 No      No internet service  No internet service   \n",
       "2        Fiber optic                       No                   No   \n",
       "3        Fiber optic                       No                   No   \n",
       "4        Fiber optic                      Yes                  Yes   \n",
       "\n",
       "   HasDeviceProtection HasTechSupportAccess          HasOnlineTV  \\\n",
       "0  No internet service  No internet service  No internet service   \n",
       "1  No internet service  No internet service  No internet service   \n",
       "2                   No                  Yes                   No   \n",
       "3                  Yes                   No                   No   \n",
       "4                  Yes                  Yes                  Yes   \n",
       "\n",
       "  HasMovieSubscription HasContractPhone IsBillingPaperless  \\\n",
       "0  No internet service         One year                 No   \n",
       "1  No internet service         Two year                 No   \n",
       "2                   No   Month-to-month                Yes   \n",
       "3                   No   Month-to-month                 No   \n",
       "4                  Yes         Two year                 No   \n",
       "\n",
       "             PaymentMethod  Churn  \n",
       "0             Mailed check      0  \n",
       "1  Credit card (automatic)      0  \n",
       "2         Electronic check      1  \n",
       "3             Mailed check      0  \n",
       "4  Credit card (automatic)      0  "
      ]
     },
     "execution_count": 232,
     "metadata": {},
     "output_type": "execute_result"
    }
   ],
   "source": [
    "data = pd.read_csv('./train.csv')\n",
    "data.head()"
   ]
  },
  {
   "cell_type": "code",
   "execution_count": 233,
   "metadata": {
    "id": "KgnkkF5bEEY9"
   },
   "outputs": [],
   "source": [
    "# Для вашего удобства списки с именами разных колонок\n",
    "\n",
    "# Числовые признаки\n",
    "num_cols = [\n",
    "    'ClientPeriod',\n",
    "    'MonthlySpending',\n",
    "    'TotalSpent'\n",
    "]\n",
    "\n",
    "# Категориальные признаки\n",
    "cat_cols = [\n",
    "    'Sex',\n",
    "    'IsSeniorCitizen',\n",
    "    'HasPartner',\n",
    "    'HasChild',\n",
    "    'HasPhoneService',\n",
    "    'HasMultiplePhoneNumbers',\n",
    "    'HasInternetService',\n",
    "    'HasOnlineSecurityService',\n",
    "    'HasOnlineBackup',\n",
    "    'HasDeviceProtection',\n",
    "    'HasTechSupportAccess',\n",
    "    'HasOnlineTV',\n",
    "    'HasMovieSubscription',\n",
    "    'HasContractPhone',\n",
    "    'IsBillingPaperless',\n",
    "    'PaymentMethod'\n",
    "]\n",
    "\n",
    "feature_cols = num_cols + cat_cols\n",
    "target_col = 'Churn'"
   ]
  },
  {
   "cell_type": "code",
   "execution_count": 234,
   "metadata": {
    "id": "tHC6gWabEEZA"
   },
   "outputs": [
    {
     "name": "stdout",
     "output_type": "stream",
     "text": [
      "<class 'pandas.core.frame.DataFrame'>\n",
      "RangeIndex: 5282 entries, 0 to 5281\n",
      "Data columns (total 20 columns):\n",
      " #   Column                    Non-Null Count  Dtype  \n",
      "---  ------                    --------------  -----  \n",
      " 0   ClientPeriod              5282 non-null   int64  \n",
      " 1   MonthlySpending           5282 non-null   float64\n",
      " 2   TotalSpent                5282 non-null   object \n",
      " 3   Sex                       5282 non-null   object \n",
      " 4   IsSeniorCitizen           5282 non-null   int64  \n",
      " 5   HasPartner                5282 non-null   object \n",
      " 6   HasChild                  5282 non-null   object \n",
      " 7   HasPhoneService           5282 non-null   object \n",
      " 8   HasMultiplePhoneNumbers   5282 non-null   object \n",
      " 9   HasInternetService        5282 non-null   object \n",
      " 10  HasOnlineSecurityService  5282 non-null   object \n",
      " 11  HasOnlineBackup           5282 non-null   object \n",
      " 12  HasDeviceProtection       5282 non-null   object \n",
      " 13  HasTechSupportAccess      5282 non-null   object \n",
      " 14  HasOnlineTV               5282 non-null   object \n",
      " 15  HasMovieSubscription      5282 non-null   object \n",
      " 16  HasContractPhone          5282 non-null   object \n",
      " 17  IsBillingPaperless        5282 non-null   object \n",
      " 18  PaymentMethod             5282 non-null   object \n",
      " 19  Churn                     5282 non-null   int64  \n",
      "dtypes: float64(1), int64(3), object(16)\n",
      "memory usage: 825.4+ KB\n"
     ]
    }
   ],
   "source": [
    "data.info()"
   ]
  },
  {
   "cell_type": "code",
   "execution_count": 235,
   "metadata": {},
   "outputs": [
    {
     "data": {
      "text/plain": [
       "ClientPeriod                0\n",
       "MonthlySpending             0\n",
       "TotalSpent                  0\n",
       "Sex                         0\n",
       "IsSeniorCitizen             0\n",
       "HasPartner                  0\n",
       "HasChild                    0\n",
       "HasPhoneService             0\n",
       "HasMultiplePhoneNumbers     0\n",
       "HasInternetService          0\n",
       "HasOnlineSecurityService    0\n",
       "HasOnlineBackup             0\n",
       "HasDeviceProtection         0\n",
       "HasTechSupportAccess        0\n",
       "HasOnlineTV                 0\n",
       "HasMovieSubscription        0\n",
       "HasContractPhone            0\n",
       "IsBillingPaperless          0\n",
       "PaymentMethod               0\n",
       "Churn                       0\n",
       "dtype: int64"
      ]
     },
     "execution_count": 235,
     "metadata": {},
     "output_type": "execute_result"
    }
   ],
   "source": [
    "data.isna().sum()"
   ]
  },
  {
   "cell_type": "code",
   "execution_count": 236,
   "metadata": {},
   "outputs": [
    {
     "data": {
      "text/html": [
       "<div>\n",
       "<style scoped>\n",
       "    .dataframe tbody tr th:only-of-type {\n",
       "        vertical-align: middle;\n",
       "    }\n",
       "\n",
       "    .dataframe tbody tr th {\n",
       "        vertical-align: top;\n",
       "    }\n",
       "\n",
       "    .dataframe thead th {\n",
       "        text-align: right;\n",
       "    }\n",
       "</style>\n",
       "<table border=\"1\" class=\"dataframe\">\n",
       "  <thead>\n",
       "    <tr style=\"text-align: right;\">\n",
       "      <th></th>\n",
       "      <th>ClientPeriod</th>\n",
       "      <th>MonthlySpending</th>\n",
       "      <th>TotalSpent</th>\n",
       "      <th>Sex</th>\n",
       "      <th>IsSeniorCitizen</th>\n",
       "      <th>HasPartner</th>\n",
       "      <th>HasChild</th>\n",
       "      <th>HasPhoneService</th>\n",
       "      <th>HasMultiplePhoneNumbers</th>\n",
       "      <th>HasInternetService</th>\n",
       "      <th>HasOnlineSecurityService</th>\n",
       "      <th>HasOnlineBackup</th>\n",
       "      <th>HasDeviceProtection</th>\n",
       "      <th>HasTechSupportAccess</th>\n",
       "      <th>HasOnlineTV</th>\n",
       "      <th>HasMovieSubscription</th>\n",
       "      <th>HasContractPhone</th>\n",
       "      <th>IsBillingPaperless</th>\n",
       "      <th>PaymentMethod</th>\n",
       "      <th>Churn</th>\n",
       "    </tr>\n",
       "  </thead>\n",
       "  <tbody>\n",
       "    <tr>\n",
       "      <th>1048</th>\n",
       "      <td>0</td>\n",
       "      <td>25.75</td>\n",
       "      <td></td>\n",
       "      <td>Male</td>\n",
       "      <td>0</td>\n",
       "      <td>Yes</td>\n",
       "      <td>Yes</td>\n",
       "      <td>Yes</td>\n",
       "      <td>Yes</td>\n",
       "      <td>No</td>\n",
       "      <td>No internet service</td>\n",
       "      <td>No internet service</td>\n",
       "      <td>No internet service</td>\n",
       "      <td>No internet service</td>\n",
       "      <td>No internet service</td>\n",
       "      <td>No internet service</td>\n",
       "      <td>Two year</td>\n",
       "      <td>No</td>\n",
       "      <td>Mailed check</td>\n",
       "      <td>0</td>\n",
       "    </tr>\n",
       "    <tr>\n",
       "      <th>1707</th>\n",
       "      <td>0</td>\n",
       "      <td>73.35</td>\n",
       "      <td></td>\n",
       "      <td>Female</td>\n",
       "      <td>0</td>\n",
       "      <td>Yes</td>\n",
       "      <td>Yes</td>\n",
       "      <td>Yes</td>\n",
       "      <td>Yes</td>\n",
       "      <td>DSL</td>\n",
       "      <td>No</td>\n",
       "      <td>Yes</td>\n",
       "      <td>Yes</td>\n",
       "      <td>Yes</td>\n",
       "      <td>Yes</td>\n",
       "      <td>No</td>\n",
       "      <td>Two year</td>\n",
       "      <td>No</td>\n",
       "      <td>Mailed check</td>\n",
       "      <td>0</td>\n",
       "    </tr>\n",
       "    <tr>\n",
       "      <th>2543</th>\n",
       "      <td>0</td>\n",
       "      <td>19.70</td>\n",
       "      <td></td>\n",
       "      <td>Male</td>\n",
       "      <td>0</td>\n",
       "      <td>Yes</td>\n",
       "      <td>Yes</td>\n",
       "      <td>Yes</td>\n",
       "      <td>No</td>\n",
       "      <td>No</td>\n",
       "      <td>No internet service</td>\n",
       "      <td>No internet service</td>\n",
       "      <td>No internet service</td>\n",
       "      <td>No internet service</td>\n",
       "      <td>No internet service</td>\n",
       "      <td>No internet service</td>\n",
       "      <td>One year</td>\n",
       "      <td>Yes</td>\n",
       "      <td>Mailed check</td>\n",
       "      <td>0</td>\n",
       "    </tr>\n",
       "    <tr>\n",
       "      <th>3078</th>\n",
       "      <td>0</td>\n",
       "      <td>80.85</td>\n",
       "      <td></td>\n",
       "      <td>Female</td>\n",
       "      <td>0</td>\n",
       "      <td>Yes</td>\n",
       "      <td>Yes</td>\n",
       "      <td>Yes</td>\n",
       "      <td>No</td>\n",
       "      <td>DSL</td>\n",
       "      <td>Yes</td>\n",
       "      <td>Yes</td>\n",
       "      <td>Yes</td>\n",
       "      <td>No</td>\n",
       "      <td>Yes</td>\n",
       "      <td>Yes</td>\n",
       "      <td>Two year</td>\n",
       "      <td>No</td>\n",
       "      <td>Mailed check</td>\n",
       "      <td>0</td>\n",
       "    </tr>\n",
       "    <tr>\n",
       "      <th>3697</th>\n",
       "      <td>0</td>\n",
       "      <td>20.00</td>\n",
       "      <td></td>\n",
       "      <td>Female</td>\n",
       "      <td>0</td>\n",
       "      <td>Yes</td>\n",
       "      <td>Yes</td>\n",
       "      <td>Yes</td>\n",
       "      <td>No</td>\n",
       "      <td>No</td>\n",
       "      <td>No internet service</td>\n",
       "      <td>No internet service</td>\n",
       "      <td>No internet service</td>\n",
       "      <td>No internet service</td>\n",
       "      <td>No internet service</td>\n",
       "      <td>No internet service</td>\n",
       "      <td>Two year</td>\n",
       "      <td>No</td>\n",
       "      <td>Mailed check</td>\n",
       "      <td>0</td>\n",
       "    </tr>\n",
       "    <tr>\n",
       "      <th>4002</th>\n",
       "      <td>0</td>\n",
       "      <td>61.90</td>\n",
       "      <td></td>\n",
       "      <td>Male</td>\n",
       "      <td>0</td>\n",
       "      <td>No</td>\n",
       "      <td>Yes</td>\n",
       "      <td>Yes</td>\n",
       "      <td>Yes</td>\n",
       "      <td>DSL</td>\n",
       "      <td>Yes</td>\n",
       "      <td>Yes</td>\n",
       "      <td>No</td>\n",
       "      <td>Yes</td>\n",
       "      <td>No</td>\n",
       "      <td>No</td>\n",
       "      <td>Two year</td>\n",
       "      <td>Yes</td>\n",
       "      <td>Bank transfer (automatic)</td>\n",
       "      <td>0</td>\n",
       "    </tr>\n",
       "    <tr>\n",
       "      <th>4326</th>\n",
       "      <td>0</td>\n",
       "      <td>25.35</td>\n",
       "      <td></td>\n",
       "      <td>Male</td>\n",
       "      <td>0</td>\n",
       "      <td>Yes</td>\n",
       "      <td>Yes</td>\n",
       "      <td>Yes</td>\n",
       "      <td>Yes</td>\n",
       "      <td>No</td>\n",
       "      <td>No internet service</td>\n",
       "      <td>No internet service</td>\n",
       "      <td>No internet service</td>\n",
       "      <td>No internet service</td>\n",
       "      <td>No internet service</td>\n",
       "      <td>No internet service</td>\n",
       "      <td>Two year</td>\n",
       "      <td>No</td>\n",
       "      <td>Mailed check</td>\n",
       "      <td>0</td>\n",
       "    </tr>\n",
       "    <tr>\n",
       "      <th>4551</th>\n",
       "      <td>0</td>\n",
       "      <td>52.55</td>\n",
       "      <td></td>\n",
       "      <td>Female</td>\n",
       "      <td>0</td>\n",
       "      <td>Yes</td>\n",
       "      <td>Yes</td>\n",
       "      <td>No</td>\n",
       "      <td>No phone service</td>\n",
       "      <td>DSL</td>\n",
       "      <td>Yes</td>\n",
       "      <td>No</td>\n",
       "      <td>Yes</td>\n",
       "      <td>Yes</td>\n",
       "      <td>Yes</td>\n",
       "      <td>No</td>\n",
       "      <td>Two year</td>\n",
       "      <td>Yes</td>\n",
       "      <td>Bank transfer (automatic)</td>\n",
       "      <td>0</td>\n",
       "    </tr>\n",
       "    <tr>\n",
       "      <th>4598</th>\n",
       "      <td>0</td>\n",
       "      <td>56.05</td>\n",
       "      <td></td>\n",
       "      <td>Female</td>\n",
       "      <td>0</td>\n",
       "      <td>Yes</td>\n",
       "      <td>Yes</td>\n",
       "      <td>No</td>\n",
       "      <td>No phone service</td>\n",
       "      <td>DSL</td>\n",
       "      <td>Yes</td>\n",
       "      <td>Yes</td>\n",
       "      <td>Yes</td>\n",
       "      <td>Yes</td>\n",
       "      <td>Yes</td>\n",
       "      <td>No</td>\n",
       "      <td>Two year</td>\n",
       "      <td>No</td>\n",
       "      <td>Credit card (automatic)</td>\n",
       "      <td>0</td>\n",
       "    </tr>\n",
       "  </tbody>\n",
       "</table>\n",
       "</div>"
      ],
      "text/plain": [
       "      ClientPeriod  MonthlySpending TotalSpent     Sex  IsSeniorCitizen  \\\n",
       "1048             0            25.75               Male                0   \n",
       "1707             0            73.35             Female                0   \n",
       "2543             0            19.70               Male                0   \n",
       "3078             0            80.85             Female                0   \n",
       "3697             0            20.00             Female                0   \n",
       "4002             0            61.90               Male                0   \n",
       "4326             0            25.35               Male                0   \n",
       "4551             0            52.55             Female                0   \n",
       "4598             0            56.05             Female                0   \n",
       "\n",
       "     HasPartner HasChild HasPhoneService HasMultiplePhoneNumbers  \\\n",
       "1048        Yes      Yes             Yes                     Yes   \n",
       "1707        Yes      Yes             Yes                     Yes   \n",
       "2543        Yes      Yes             Yes                      No   \n",
       "3078        Yes      Yes             Yes                      No   \n",
       "3697        Yes      Yes             Yes                      No   \n",
       "4002         No      Yes             Yes                     Yes   \n",
       "4326        Yes      Yes             Yes                     Yes   \n",
       "4551        Yes      Yes              No        No phone service   \n",
       "4598        Yes      Yes              No        No phone service   \n",
       "\n",
       "     HasInternetService HasOnlineSecurityService      HasOnlineBackup  \\\n",
       "1048                 No      No internet service  No internet service   \n",
       "1707                DSL                       No                  Yes   \n",
       "2543                 No      No internet service  No internet service   \n",
       "3078                DSL                      Yes                  Yes   \n",
       "3697                 No      No internet service  No internet service   \n",
       "4002                DSL                      Yes                  Yes   \n",
       "4326                 No      No internet service  No internet service   \n",
       "4551                DSL                      Yes                   No   \n",
       "4598                DSL                      Yes                  Yes   \n",
       "\n",
       "      HasDeviceProtection HasTechSupportAccess          HasOnlineTV  \\\n",
       "1048  No internet service  No internet service  No internet service   \n",
       "1707                  Yes                  Yes                  Yes   \n",
       "2543  No internet service  No internet service  No internet service   \n",
       "3078                  Yes                   No                  Yes   \n",
       "3697  No internet service  No internet service  No internet service   \n",
       "4002                   No                  Yes                   No   \n",
       "4326  No internet service  No internet service  No internet service   \n",
       "4551                  Yes                  Yes                  Yes   \n",
       "4598                  Yes                  Yes                  Yes   \n",
       "\n",
       "     HasMovieSubscription HasContractPhone IsBillingPaperless  \\\n",
       "1048  No internet service         Two year                 No   \n",
       "1707                   No         Two year                 No   \n",
       "2543  No internet service         One year                Yes   \n",
       "3078                  Yes         Two year                 No   \n",
       "3697  No internet service         Two year                 No   \n",
       "4002                   No         Two year                Yes   \n",
       "4326  No internet service         Two year                 No   \n",
       "4551                   No         Two year                Yes   \n",
       "4598                   No         Two year                 No   \n",
       "\n",
       "                  PaymentMethod  Churn  \n",
       "1048               Mailed check      0  \n",
       "1707               Mailed check      0  \n",
       "2543               Mailed check      0  \n",
       "3078               Mailed check      0  \n",
       "3697               Mailed check      0  \n",
       "4002  Bank transfer (automatic)      0  \n",
       "4326               Mailed check      0  \n",
       "4551  Bank transfer (automatic)      0  \n",
       "4598    Credit card (automatic)      0  "
      ]
     },
     "execution_count": 236,
     "metadata": {},
     "output_type": "execute_result"
    }
   ],
   "source": [
    "data[data['TotalSpent'] == ' ']"
   ]
  },
  {
   "cell_type": "code",
   "execution_count": 237,
   "metadata": {},
   "outputs": [],
   "source": [
    "data['TotalSpent'] = data['TotalSpent'].replace(' ', np.nan)\n",
    "data = data.dropna()\n",
    "data['TotalSpent'] = data['TotalSpent'].astype(float)"
   ]
  },
  {
   "cell_type": "code",
   "execution_count": 238,
   "metadata": {},
   "outputs": [
    {
     "data": {
      "text/html": [
       "<div>\n",
       "<style scoped>\n",
       "    .dataframe tbody tr th:only-of-type {\n",
       "        vertical-align: middle;\n",
       "    }\n",
       "\n",
       "    .dataframe tbody tr th {\n",
       "        vertical-align: top;\n",
       "    }\n",
       "\n",
       "    .dataframe thead th {\n",
       "        text-align: right;\n",
       "    }\n",
       "</style>\n",
       "<table border=\"1\" class=\"dataframe\">\n",
       "  <thead>\n",
       "    <tr style=\"text-align: right;\">\n",
       "      <th></th>\n",
       "      <th>ClientPeriod</th>\n",
       "      <th>MonthlySpending</th>\n",
       "      <th>TotalSpent</th>\n",
       "      <th>Sex</th>\n",
       "      <th>IsSeniorCitizen</th>\n",
       "      <th>HasPartner</th>\n",
       "      <th>HasChild</th>\n",
       "      <th>HasPhoneService</th>\n",
       "      <th>HasMultiplePhoneNumbers</th>\n",
       "      <th>HasInternetService</th>\n",
       "      <th>HasOnlineSecurityService</th>\n",
       "      <th>HasOnlineBackup</th>\n",
       "      <th>HasDeviceProtection</th>\n",
       "      <th>HasTechSupportAccess</th>\n",
       "      <th>HasOnlineTV</th>\n",
       "      <th>HasMovieSubscription</th>\n",
       "      <th>HasContractPhone</th>\n",
       "      <th>IsBillingPaperless</th>\n",
       "      <th>PaymentMethod</th>\n",
       "      <th>Churn</th>\n",
       "    </tr>\n",
       "  </thead>\n",
       "  <tbody>\n",
       "  </tbody>\n",
       "</table>\n",
       "</div>"
      ],
      "text/plain": [
       "Empty DataFrame\n",
       "Columns: [ClientPeriod, MonthlySpending, TotalSpent, Sex, IsSeniorCitizen, HasPartner, HasChild, HasPhoneService, HasMultiplePhoneNumbers, HasInternetService, HasOnlineSecurityService, HasOnlineBackup, HasDeviceProtection, HasTechSupportAccess, HasOnlineTV, HasMovieSubscription, HasContractPhone, IsBillingPaperless, PaymentMethod, Churn]\n",
       "Index: []"
      ]
     },
     "execution_count": 238,
     "metadata": {},
     "output_type": "execute_result"
    }
   ],
   "source": [
    "data[data['TotalSpent'] == ' ']"
   ]
  },
  {
   "cell_type": "code",
   "execution_count": 239,
   "metadata": {},
   "outputs": [
    {
     "data": {
      "text/html": [
       "<div>\n",
       "<style scoped>\n",
       "    .dataframe tbody tr th:only-of-type {\n",
       "        vertical-align: middle;\n",
       "    }\n",
       "\n",
       "    .dataframe tbody tr th {\n",
       "        vertical-align: top;\n",
       "    }\n",
       "\n",
       "    .dataframe thead th {\n",
       "        text-align: right;\n",
       "    }\n",
       "</style>\n",
       "<table border=\"1\" class=\"dataframe\">\n",
       "  <thead>\n",
       "    <tr style=\"text-align: right;\">\n",
       "      <th></th>\n",
       "      <th>ClientPeriod</th>\n",
       "      <th>MonthlySpending</th>\n",
       "      <th>TotalSpent</th>\n",
       "      <th>Sex</th>\n",
       "      <th>IsSeniorCitizen</th>\n",
       "      <th>HasPartner</th>\n",
       "      <th>HasChild</th>\n",
       "      <th>HasPhoneService</th>\n",
       "      <th>HasMultiplePhoneNumbers</th>\n",
       "      <th>HasInternetService</th>\n",
       "      <th>HasOnlineSecurityService</th>\n",
       "      <th>HasOnlineBackup</th>\n",
       "      <th>HasDeviceProtection</th>\n",
       "      <th>HasTechSupportAccess</th>\n",
       "      <th>HasOnlineTV</th>\n",
       "      <th>HasMovieSubscription</th>\n",
       "      <th>HasContractPhone</th>\n",
       "      <th>IsBillingPaperless</th>\n",
       "      <th>PaymentMethod</th>\n",
       "      <th>Churn</th>\n",
       "    </tr>\n",
       "  </thead>\n",
       "  <tbody>\n",
       "  </tbody>\n",
       "</table>\n",
       "</div>"
      ],
      "text/plain": [
       "Empty DataFrame\n",
       "Columns: [ClientPeriod, MonthlySpending, TotalSpent, Sex, IsSeniorCitizen, HasPartner, HasChild, HasPhoneService, HasMultiplePhoneNumbers, HasInternetService, HasOnlineSecurityService, HasOnlineBackup, HasDeviceProtection, HasTechSupportAccess, HasOnlineTV, HasMovieSubscription, HasContractPhone, IsBillingPaperless, PaymentMethod, Churn]\n",
       "Index: []"
      ]
     },
     "execution_count": 239,
     "metadata": {},
     "output_type": "execute_result"
    }
   ],
   "source": [
    "data[data['TotalSpent'].isna()]"
   ]
  },
  {
   "cell_type": "code",
   "execution_count": 240,
   "metadata": {},
   "outputs": [
    {
     "data": {
      "text/plain": [
       "(5273, 20)"
      ]
     },
     "execution_count": 240,
     "metadata": {},
     "output_type": "execute_result"
    }
   ],
   "source": [
    "data.shape"
   ]
  },
  {
   "cell_type": "markdown",
   "metadata": {
    "id": "dK370bPCEEZD"
   },
   "source": [
    "## Анализ данных (3 балла)\n",
    "\n",
    "1) Для численных призанков постройте гистограмму (*plt.hist(...)*) или boxplot (*plt.boxplot(...)*). Для категориальных посчитайте количество каждого значения для каждого признака. Для каждой колонки надо сделать *data.value_counts()* и построить bar диаграммы *plt.bar(...)* или круговые диаграммы *plt.pie(...)* (хорошо, елси вы сможете это сделать на одном гарфике с помощью *plt.subplots(...)*). \n",
    "\n",
    "2) Посмотрите на распределение целевой переменной и скажите, являются ли классы несбалансированными.\n",
    "\n",
    "3) (Если будет желание) Поиграйте с разными библиотеками для визуализации - *sns*, *pandas_visual_analysis*, etc.\n",
    "\n",
    "Второй пункт очень важен, потому что существуют задачи классификации с несбалансированными классами. Например, это может значить, что в датасете намного больше примеров 0 класса. В таких случаях нужно 1) не использовать accuracy как метрику 2) использовать методы борьбы с imbalanced dataset (обычно если датасет сильно несбалансирован, т.е. класса 1 в 20 раз меньше класса 0)."
   ]
  },
  {
   "cell_type": "markdown",
   "metadata": {},
   "source": [
    "### Численные признаки"
   ]
  },
  {
   "cell_type": "code",
   "execution_count": 241,
   "metadata": {},
   "outputs": [
    {
     "data": {
      "image/png": "[encoded data removed]",
      "text/plain": [
       "<Figure size 864x432 with 2 Axes>"
      ]
     },
     "metadata": {
      "needs_background": "light"
     },
     "output_type": "display_data"
    }
   ],
   "source": [
    "fig, (ax1, ax2) = plt.subplots(1, 2, figsize=(12, 6))\n",
    "fig.suptitle('ClientPeriod')\n",
    "\n",
    "ax1.hist(data['ClientPeriod'], bins=30)\n",
    "\n",
    "ax2.boxplot(data['ClientPeriod'])\n",
    "None"
   ]
  },
  {
   "cell_type": "code",
   "execution_count": 242,
   "metadata": {},
   "outputs": [
    {
     "data": {
      "image/png": "[encoded data removed]",
      "text/plain": [
       "<Figure size 864x432 with 2 Axes>"
      ]
     },
     "metadata": {
      "needs_background": "light"
     },
     "output_type": "display_data"
    }
   ],
   "source": [
    "fig, (ax1, ax2) = plt.subplots(1, 2, figsize=(12, 6))\n",
    "fig.suptitle('MonthlySpending')\n",
    "\n",
    "ax1.hist(data['MonthlySpending'], bins=30)\n",
    "\n",
    "ax2.boxplot(data['MonthlySpending'])\n",
    "None"
   ]
  },
  {
   "cell_type": "code",
   "execution_count": 243,
   "metadata": {},
   "outputs": [
    {
     "data": {
      "image/png": "[encoded data removed]",
      "text/plain": [
       "<Figure size 864x432 with 2 Axes>"
      ]
     },
     "metadata": {
      "needs_background": "light"
     },
     "output_type": "display_data"
    }
   ],
   "source": [
    "fig, (ax1, ax2) = plt.subplots(1, 2, figsize=(12, 6))\n",
    "fig.suptitle('TotalSpent')\n",
    "\n",
    "ax1.hist(data['TotalSpent'], bins=30)\n",
    "\n",
    "ax2.boxplot(data['TotalSpent'])\n",
    "None"
   ]
  },
  {
   "cell_type": "markdown",
   "metadata": {},
   "source": [
    "### Категориальные признаки"
   ]
  },
  {
   "cell_type": "code",
   "execution_count": 244,
   "metadata": {},
   "outputs": [
    {
     "data": {
      "text/plain": [
       "['Sex',\n",
       " 'IsSeniorCitizen',\n",
       " 'HasPartner',\n",
       " 'HasChild',\n",
       " 'HasPhoneService',\n",
       " 'HasMultiplePhoneNumbers',\n",
       " 'HasInternetService',\n",
       " 'HasOnlineSecurityService',\n",
       " 'HasOnlineBackup',\n",
       " 'HasDeviceProtection',\n",
       " 'HasTechSupportAccess',\n",
       " 'HasOnlineTV',\n",
       " 'HasMovieSubscription',\n",
       " 'HasContractPhone',\n",
       " 'IsBillingPaperless',\n",
       " 'PaymentMethod']"
      ]
     },
     "execution_count": 244,
     "metadata": {},
     "output_type": "execute_result"
    }
   ],
   "source": [
    "cat_cols"
   ]
  },
  {
   "cell_type": "code",
   "execution_count": 245,
   "metadata": {},
   "outputs": [
    {
     "name": "stdout",
     "output_type": "stream",
     "text": [
      "\u001b[1mSex\n",
      "\u001b[0m Male      2651\n",
      "Female    2622\n",
      "Name: Sex, dtype: int64 \n",
      "\n",
      "\u001b[1mIsSeniorCitizen\n",
      "\u001b[0m 0    4431\n",
      "1     842\n",
      "Name: IsSeniorCitizen, dtype: int64 \n",
      "\n",
      "\u001b[1mHasPartner\n",
      "\u001b[0m No     2704\n",
      "Yes    2569\n",
      "Name: HasPartner, dtype: int64 \n",
      "\n",
      "\u001b[1mHasChild\n",
      "\u001b[0m No     3676\n",
      "Yes    1597\n",
      "Name: HasChild, dtype: int64 \n",
      "\n",
      "\u001b[1mHasPhoneService\n",
      "\u001b[0m Yes    4754\n",
      "No      519\n",
      "Name: HasPhoneService, dtype: int64 \n",
      "\n",
      "\u001b[1mHasMultiplePhoneNumbers\n",
      "\u001b[0m No                  2508\n",
      "Yes                 2246\n",
      "No phone service     519\n",
      "Name: HasMultiplePhoneNumbers, dtype: int64 \n",
      "\n",
      "\u001b[1mHasInternetService\n",
      "\u001b[0m Fiber optic    2341\n",
      "DSL            1795\n",
      "No             1137\n",
      "Name: HasInternetService, dtype: int64 \n",
      "\n",
      "\u001b[1mHasOnlineSecurityService\n",
      "\u001b[0m No                     2611\n",
      "Yes                    1525\n",
      "No internet service    1137\n",
      "Name: HasOnlineSecurityService, dtype: int64 \n",
      "\n",
      "\u001b[1mHasOnlineBackup\n",
      "\u001b[0m No                     2331\n",
      "Yes                    1805\n",
      "No internet service    1137\n",
      "Name: HasOnlineBackup, dtype: int64 \n",
      "\n",
      "\u001b[1mHasDeviceProtection\n",
      "\u001b[0m No                     2316\n",
      "Yes                    1820\n",
      "No internet service    1137\n",
      "Name: HasDeviceProtection, dtype: int64 \n",
      "\n",
      "\u001b[1mHasTechSupportAccess\n",
      "\u001b[0m No                     2603\n",
      "Yes                    1533\n",
      "No internet service    1137\n",
      "Name: HasTechSupportAccess, dtype: int64 \n",
      "\n",
      "\u001b[1mHasOnlineTV\n",
      "\u001b[0m No                     2098\n",
      "Yes                    2038\n",
      "No internet service    1137\n",
      "Name: HasOnlineTV, dtype: int64 \n",
      "\n",
      "\u001b[1mHasMovieSubscription\n",
      "\u001b[0m No                     2077\n",
      "Yes                    2059\n",
      "No internet service    1137\n",
      "Name: HasMovieSubscription, dtype: int64 \n",
      "\n",
      "\u001b[1mHasContractPhone\n",
      "\u001b[0m Month-to-month    2920\n",
      "Two year          1272\n",
      "One year          1081\n",
      "Name: HasContractPhone, dtype: int64 \n",
      "\n",
      "\u001b[1mIsBillingPaperless\n",
      "\u001b[0m Yes    3145\n",
      "No     2128\n",
      "Name: IsBillingPaperless, dtype: int64 \n",
      "\n",
      "\u001b[1mPaymentMethod\n",
      "\u001b[0m Electronic check             1786\n",
      "Mailed check                 1188\n",
      "Bank transfer (automatic)    1157\n",
      "Credit card (automatic)      1142\n",
      "Name: PaymentMethod, dtype: int64 \n",
      "\n"
     ]
    }
   ],
   "source": [
    "for col in cat_cols:\n",
    "    print('\\033[1m' + col)\n",
    "    print('\\033[0m', data[col].value_counts(), '\\n')"
   ]
  },
  {
   "cell_type": "code",
   "execution_count": 246,
   "metadata": {},
   "outputs": [
    {
     "name": "stderr",
     "output_type": "stream",
     "text": [
      "<ipython-input-246-6dcc74562499>:10: UserWarning: Matplotlib is currently using module://ipykernel.pylab.backend_inline, which is a non-GUI backend, so cannot show the figure.\n",
      "  fig.show()\n"
     ]
    },
    {
     "data": {
      "image/png": "[encoded data removed]",
      "text/plain": [
       "<Figure size 1440x1440 with 16 Axes>"
      ]
     },
     "metadata": {},
     "output_type": "display_data"
    }
   ],
   "source": [
    "\n",
    "fig, ax = plt.subplots(4, 4, figsize=(20,20))\n",
    "\n",
    "ax = ax.ravel()\n",
    "\n",
    "for i, name in enumerate(cat_cols):\n",
    "    x = data[name].value_counts()\n",
    "    labels = data[name].unique()\n",
    "    ax[i].set_title(name)\n",
    "    ax[i].pie(x, labels=labels)\n",
    "fig.show()"
   ]
  },
  {
   "cell_type": "markdown",
   "metadata": {
    "id": "zg60u3QDEEZH"
   },
   "source": [
    "(Дополнительно) Если вы нашли какие-то ошибки в данных или выбросы, то можете их убрать. Тут можно поэксперементировать с обработкой данных как угодно, но не за баллы."
   ]
  },
  {
   "cell_type": "code",
   "execution_count": 247,
   "metadata": {
    "id": "fwfksF1gEEZI"
   },
   "outputs": [],
   "source": [
    "# YOUR CODE"
   ]
  },
  {
   "cell_type": "markdown",
   "metadata": {
    "id": "DviiJd8REEZK"
   },
   "source": [
    "## Применение линейных моделей (3 балла)\n",
    "\n",
    "1) Обработайте данные для того, чтобы к ним можно было применить LogisticRegression. Т.е. отнормируйте числовые признаки, а категориальные закодируйте с помощью one-hot-encoding'а. \n",
    "\n",
    "2) С помощью кроссвалидации или разделения на train/valid выборку протестируйте разные значения гиперпараметра C и выберите лучший (можно тестировать С=100, 10, 1, 0.1, 0.01, 0.001) по метрике ROC-AUC. \n",
    "\n",
    "Если вы разделяете на train/valid, то используйте LogisticRegressionCV. Он сам при вызове .fit() подберет параметр С. (не забудьте передать scroing='roc_auc', чтобы при кроссвалидации сравнивались значения этой метрики, и refit=True, чтобы при потом модель обучилась на всем датасете с лучшим параметром C). \n",
    "\n",
    "\n",
    "(более сложный вариант) Если вы будете использовать кроссвалидацию, то преобразования данных и LogisticRegression нужно соединить в один Pipeline с помощью make_pipeline, как это делалось во втором семинаре. Потом pipeline надо передать в GridSearchCV. Для one-hot-encoding'a можно испльзовать комбинацию LabelEncoder + OneHotEncoder (сначала превращаем строчки в числа, а потом числа првращаем в one-hot вектора.)"
   ]
  },
  {
   "cell_type": "code",
   "execution_count": 248,
   "metadata": {
    "id": "xHCLDmwqEEZL"
   },
   "outputs": [],
   "source": [
    "from sklearn.linear_model import LogisticRegression, LogisticRegressionCV\n",
    "from sklearn.model_selection import train_test_split, GridSearchCV\n",
    "from sklearn.preprocessing import StandardScaler, RobustScaler, LabelEncoder, OneHotEncoder\n",
    "from sklearn.pipeline import make_pipeline\n",
    "from sklearn.metrics import accuracy_score, f1_score"
   ]
  },
  {
   "cell_type": "code",
   "execution_count": 249,
   "metadata": {},
   "outputs": [
    {
     "data": {
      "text/plain": [
       "((5273, 42), (5273, 3))"
      ]
     },
     "execution_count": 249,
     "metadata": {},
     "output_type": "execute_result"
    }
   ],
   "source": [
    "dummy_features = pd.get_dummies(data[cat_cols])\n",
    "numeric_data = data[num_cols]\n",
    "dummy_features.shape, numeric_data.shape"
   ]
  },
  {
   "cell_type": "code",
   "execution_count": 250,
   "metadata": {},
   "outputs": [
    {
     "data": {
      "text/plain": [
       "(5273, 45)"
      ]
     },
     "execution_count": 250,
     "metadata": {},
     "output_type": "execute_result"
    }
   ],
   "source": [
    "X = pd.concat([numeric_data, dummy_features], axis=1)\n",
    "X_origin = data.iloc[:, :-1]\n",
    "X.shape"
   ]
  },
  {
   "cell_type": "code",
   "execution_count": 251,
   "metadata": {},
   "outputs": [
    {
     "data": {
      "text/plain": [
       "(5273, 20)"
      ]
     },
     "execution_count": 251,
     "metadata": {},
     "output_type": "execute_result"
    }
   ],
   "source": [
    "data.shape"
   ]
  },
  {
   "cell_type": "code",
   "execution_count": 252,
   "metadata": {},
   "outputs": [
    {
     "data": {
      "text/plain": [
       "(5273,)"
      ]
     },
     "execution_count": 252,
     "metadata": {},
     "output_type": "execute_result"
    }
   ],
   "source": [
    "y = data['Churn']\n",
    "y.shape"
   ]
  },
  {
   "cell_type": "code",
   "execution_count": 253,
   "metadata": {},
   "outputs": [],
   "source": [
    "#num_train, num_test, y_train, y_test, dum_train, dum_test = train_test_split(numeric_data, y,\n",
    "                                                                            #dummy_features, \n",
    "                                                                            #train_size=0.8,\n",
    "                                                                            #random_state=42)"
   ]
  },
  {
   "cell_type": "code",
   "execution_count": 254,
   "metadata": {
    "id": "P2Yv3uYtEEZO"
   },
   "outputs": [],
   "source": [
    "#scaler = StandardScaler()\n",
    "#num_train_scaled = scaler.fit_transform(num_train)\n",
    "#num_test_scaled = scaler.transform(num_test)"
   ]
  },
  {
   "cell_type": "code",
   "execution_count": 255,
   "metadata": {},
   "outputs": [],
   "source": [
    "#X_train = np.concatenate((num_train_scaled, dum_train.values), axis=None)\n",
    "#X_test = np.concatenate((num_test_scaled, dum_test.values), axis=None)\n",
    "#X_train = X_train.reshape(-1,45)\n",
    "#X_test = X_test.reshape(-1,45)"
   ]
  },
  {
   "cell_type": "code",
   "execution_count": 284,
   "metadata": {},
   "outputs": [
    {
     "data": {
      "text/plain": [
       "(0.8061824388393704, 0.7341323201593882)"
      ]
     },
     "execution_count": 284,
     "metadata": {},
     "output_type": "execute_result"
    }
   ],
   "source": [
    "cls = make_pipeline(\n",
    "    StandardScaler(),\n",
    "    LogisticRegression()\n",
    ")\n",
    "cls = cls.fit(X, y)\n",
    "preds_train = cls.predict(X)\n",
    "accuracy_score(preds_train, y), f1_score(preds_train, y, average='macro')"
   ]
  },
  {
   "cell_type": "code",
   "execution_count": 272,
   "metadata": {},
   "outputs": [],
   "source": [
    "\n",
    "log_reg = LogisticRegression(C = 1, random_state = 42)\n",
    "\n",
    "#log_reg.fit(X_train, y_train)\n",
    "#preds_train = log_reg.predict(X_train)\n",
    "#preds_train"
   ]
  },
  {
   "cell_type": "code",
   "execution_count": 288,
   "metadata": {},
   "outputs": [
    {
     "data": {
      "text/plain": [
       "dict_keys(['memory', 'steps', 'verbose', 'standardscaler', 'logisticregression', 'standardscaler__copy', 'standardscaler__with_mean', 'standardscaler__with_std', 'logisticregression__C', 'logisticregression__class_weight', 'logisticregression__dual', 'logisticregression__fit_intercept', 'logisticregression__intercept_scaling', 'logisticregression__l1_ratio', 'logisticregression__max_iter', 'logisticregression__multi_class', 'logisticregression__n_jobs', 'logisticregression__penalty', 'logisticregression__random_state', 'logisticregression__solver', 'logisticregression__tol', 'logisticregression__verbose', 'logisticregression__warm_start'])"
      ]
     },
     "execution_count": 288,
     "metadata": {},
     "output_type": "execute_result"
    }
   ],
   "source": [
    "cls.get_params().keys()"
   ]
  },
  {
   "cell_type": "code",
   "execution_count": 291,
   "metadata": {},
   "outputs": [
    {
     "name": "stdout",
     "output_type": "stream",
     "text": [
      "Fitting 5 folds for each of 6 candidates, totalling 30 fits\n"
     ]
    },
    {
     "name": "stderr",
     "output_type": "stream",
     "text": [
      "[Parallel(n_jobs=-1)]: Using backend LokyBackend with 8 concurrent workers.\n",
      "[Parallel(n_jobs=-1)]: Done   2 tasks      | elapsed:    3.5s\n",
      "[Parallel(n_jobs=-1)]: Done   9 tasks      | elapsed:    3.7s\n",
      "[Parallel(n_jobs=-1)]: Done  19 out of  30 | elapsed:    3.9s remaining:    2.2s\n",
      "[Parallel(n_jobs=-1)]: Done  23 out of  30 | elapsed:    4.0s remaining:    1.1s\n",
      "[Parallel(n_jobs=-1)]: Done  27 out of  30 | elapsed:    4.0s remaining:    0.4s\n",
      "[Parallel(n_jobs=-1)]: Done  30 out of  30 | elapsed:    4.0s finished\n"
     ]
    },
    {
     "data": {
      "text/plain": [
       "GridSearchCV(cv=5,\n",
       "             estimator=Pipeline(steps=[('standardscaler', StandardScaler()),\n",
       "                                       ('logisticregression',\n",
       "                                        LogisticRegression())]),\n",
       "             n_jobs=-1,\n",
       "             param_grid={'logisticregression__C': [100, 10, 1, 0.1, 0.01,\n",
       "                                                   0.001]},\n",
       "             scoring='roc_auc', verbose=10)"
      ]
     },
     "execution_count": 291,
     "metadata": {},
     "output_type": "execute_result"
    }
   ],
   "source": [
    "parameters = {'logisticregression__C':[100, 10, 1, 0.1, 0.01, 0.001]}\n",
    "CV_model = GridSearchCV(estimator=cls, \n",
    "                        param_grid=parameters,\n",
    "                        cv=5, \n",
    "                        scoring='roc_auc',\n",
    "                        n_jobs=-1, \n",
    "                        verbose=10,\n",
    "                        refit=True)\n",
    "CV_model.fit(X, y)"
   ]
  },
  {
   "cell_type": "code",
   "execution_count": 292,
   "metadata": {},
   "outputs": [
    {
     "name": "stdout",
     "output_type": "stream",
     "text": [
      "{'logisticregression__C': 100}\n"
     ]
    }
   ],
   "source": [
    "print(CV_model.best_params_)"
   ]
  },
  {
   "cell_type": "code",
   "execution_count": 293,
   "metadata": {},
   "outputs": [
    {
     "data": {
      "text/plain": [
       "0.48043657688463604"
      ]
     },
     "execution_count": 293,
     "metadata": {},
     "output_type": "execute_result"
    }
   ],
   "source": [
    "CV_model.score(X_train, y_train)"
   ]
  },
  {
   "cell_type": "code",
   "execution_count": 294,
   "metadata": {},
   "outputs": [
    {
     "data": {
      "text/plain": [
       "((5273, 45), (5273,))"
      ]
     },
     "execution_count": 294,
     "metadata": {},
     "output_type": "execute_result"
    }
   ],
   "source": [
    "X.shape, y.shape"
   ]
  },
  {
   "cell_type": "code",
   "execution_count": 295,
   "metadata": {},
   "outputs": [],
   "source": [
    "y_train_predicted = cls.predict_proba(X)[:, 1]\n",
    "y_test_predicted = CV_model.predict_proba(X)[:, 1]"
   ]
  },
  {
   "cell_type": "code",
   "execution_count": 296,
   "metadata": {},
   "outputs": [
    {
     "data": {
      "image/png": "[encoded data removed]",
      "text/plain": [
       "<Figure size 720x504 with 1 Axes>"
      ]
     },
     "metadata": {
      "needs_background": "light"
     },
     "output_type": "display_data"
    }
   ],
   "source": [
    "from sklearn.metrics import roc_auc_score, roc_curve\n",
    "\n",
    "train_auc = roc_auc_score(y, y_train_predicted)\n",
    "test_auc = roc_auc_score(y, y_test_predicted)\n",
    "\n",
    "plt.figure(figsize=(10,7))\n",
    "plt.plot(*roc_curve(y, y_train_predicted)[:2], label='train AUC={:.4f}'.format(train_auc))\n",
    "plt.plot(*roc_curve(y, y_test_predicted)[:2], label='test AUC={:.4f}'.format(test_auc))\n",
    "legend_box = plt.legend(fontsize='large', framealpha=1).get_frame()\n",
    "legend_box.set_facecolor(\"white\")\n",
    "legend_box.set_edgecolor(\"black\")\n",
    "plt.plot(np.linspace(0,1,100), np.linspace(0,1,100))\n",
    "plt.show()"
   ]
  },
  {
   "cell_type": "markdown",
   "metadata": {
    "id": "uVahy6JKEEZQ"
   },
   "source": [
    "Выпишите какое лучшее качество и с какими параметрами вам удалось получить"
   ]
  },
  {
   "cell_type": "markdown",
   "metadata": {
    "id": "36729TOQEEZR"
   },
   "source": []
  },
  {
   "cell_type": "markdown",
   "metadata": {
    "id": "BlTeVy7fEEZR"
   },
   "source": [
    "## Применение градиентного бустинга (2 балла)\n",
    "\n",
    "Если вы хотите получить баллы за точный ответ, то стоит попробовать градиентный бустинг. Часто градиентный бустинг с дефолтными параметрами даст вам 80% результата за 0% усилий.\n",
    "\n",
    "Мы будем использовать catboost, поэтому нам не надо кодировать категориальные признаки. catboost сделает это сам (в .fit() надо передать cat_features=cat_cols). А численные признаки нормировать для моделей, основанных на деревьях не нужно.\n",
    "\n",
    "1) Разделите выборку на train/valid. Протестируйте catboost cо стандартными параметрами.\n",
    "\n",
    "2) Протестируйте разные занчения параметроа количества деревьев и learning_rate'а и выберите лучшую по метрике ROC-AUC комбинацию. \n",
    "\n",
    "(Дополнительно) Есть некоторые сложности с тем, чтобы использовать CatBoostClassifier вместе с GridSearchCV, поэтому мы не просим использовать кроссвалидацию. Но можете попробовать)"
   ]
  },
  {
   "cell_type": "code",
   "execution_count": 300,
   "metadata": {},
   "outputs": [],
   "source": [
    "import catboost"
   ]
  },
  {
   "cell_type": "code",
   "execution_count": 305,
   "metadata": {
    "id": "Fioxxlp-EEZS"
   },
   "outputs": [],
   "source": [
    "X_train, X_valid, y_train, y_valid = train_test_split(X_origin, y, train_size=0.8, random_state=42)"
   ]
  },
  {
   "cell_type": "code",
   "execution_count": 344,
   "metadata": {},
   "outputs": [
    {
     "name": "stdout",
     "output_type": "stream",
     "text": [
      "0:\tlearn: 0.6601222\ttotal: 22.1ms\tremaining: 3.73s\n",
      "1:\tlearn: 0.6312063\ttotal: 44.2ms\tremaining: 3.71s\n",
      "2:\tlearn: 0.6063071\ttotal: 64.9ms\tremaining: 3.61s\n",
      "3:\tlearn: 0.5847039\ttotal: 83.3ms\tremaining: 3.46s\n",
      "4:\tlearn: 0.5669547\ttotal: 103ms\tremaining: 3.41s\n",
      "5:\tlearn: 0.5511469\ttotal: 124ms\tremaining: 3.4s\n",
      "6:\tlearn: 0.5373249\ttotal: 164ms\tremaining: 3.81s\n",
      "7:\tlearn: 0.5249200\ttotal: 184ms\tremaining: 3.73s\n",
      "8:\tlearn: 0.5128404\ttotal: 203ms\tremaining: 3.63s\n",
      "9:\tlearn: 0.5027479\ttotal: 213ms\tremaining: 3.41s\n",
      "10:\tlearn: 0.4944269\ttotal: 221ms\tremaining: 3.2s\n",
      "11:\tlearn: 0.4854073\ttotal: 245ms\tremaining: 3.23s\n",
      "12:\tlearn: 0.4783887\ttotal: 263ms\tremaining: 3.18s\n",
      "13:\tlearn: 0.4714451\ttotal: 283ms\tremaining: 3.16s\n",
      "14:\tlearn: 0.4660670\ttotal: 304ms\tremaining: 3.14s\n",
      "15:\tlearn: 0.4618647\ttotal: 312ms\tremaining: 3s\n",
      "16:\tlearn: 0.4576148\ttotal: 328ms\tremaining: 2.95s\n",
      "17:\tlearn: 0.4522586\ttotal: 349ms\tremaining: 2.94s\n",
      "18:\tlearn: 0.4477402\ttotal: 370ms\tremaining: 2.94s\n",
      "19:\tlearn: 0.4437821\ttotal: 392ms\tremaining: 2.94s\n",
      "20:\tlearn: 0.4405064\ttotal: 416ms\tremaining: 2.95s\n",
      "21:\tlearn: 0.4369724\ttotal: 435ms\tremaining: 2.93s\n",
      "22:\tlearn: 0.4342455\ttotal: 446ms\tremaining: 2.85s\n",
      "23:\tlearn: 0.4310643\ttotal: 466ms\tremaining: 2.83s\n",
      "24:\tlearn: 0.4285679\ttotal: 488ms\tremaining: 2.83s\n",
      "25:\tlearn: 0.4264094\ttotal: 508ms\tremaining: 2.81s\n",
      "26:\tlearn: 0.4240303\ttotal: 528ms\tremaining: 2.8s\n",
      "27:\tlearn: 0.4220247\ttotal: 549ms\tremaining: 2.78s\n",
      "28:\tlearn: 0.4205605\ttotal: 569ms\tremaining: 2.77s\n",
      "29:\tlearn: 0.4191779\ttotal: 590ms\tremaining: 2.75s\n",
      "30:\tlearn: 0.4181071\ttotal: 599ms\tremaining: 2.69s\n",
      "31:\tlearn: 0.4165396\ttotal: 622ms\tremaining: 2.68s\n",
      "32:\tlearn: 0.4153652\ttotal: 643ms\tremaining: 2.67s\n",
      "33:\tlearn: 0.4139378\ttotal: 663ms\tremaining: 2.65s\n",
      "34:\tlearn: 0.4125101\ttotal: 684ms\tremaining: 2.64s\n",
      "35:\tlearn: 0.4115325\ttotal: 704ms\tremaining: 2.62s\n",
      "36:\tlearn: 0.4109951\ttotal: 721ms\tremaining: 2.59s\n",
      "37:\tlearn: 0.4098319\ttotal: 741ms\tremaining: 2.57s\n",
      "38:\tlearn: 0.4088259\ttotal: 761ms\tremaining: 2.56s\n",
      "39:\tlearn: 0.4080500\ttotal: 782ms\tremaining: 2.54s\n",
      "40:\tlearn: 0.4072644\ttotal: 806ms\tremaining: 2.54s\n",
      "41:\tlearn: 0.4066706\ttotal: 828ms\tremaining: 2.52s\n",
      "42:\tlearn: 0.4059365\ttotal: 849ms\tremaining: 2.51s\n",
      "43:\tlearn: 0.4050380\ttotal: 869ms\tremaining: 2.49s\n",
      "44:\tlearn: 0.4044428\ttotal: 889ms\tremaining: 2.47s\n",
      "45:\tlearn: 0.4031553\ttotal: 913ms\tremaining: 2.46s\n",
      "46:\tlearn: 0.4019844\ttotal: 934ms\tremaining: 2.44s\n",
      "47:\tlearn: 0.4012429\ttotal: 950ms\tremaining: 2.42s\n",
      "48:\tlearn: 0.4006818\ttotal: 970ms\tremaining: 2.4s\n",
      "49:\tlearn: 0.3999502\ttotal: 991ms\tremaining: 2.38s\n",
      "50:\tlearn: 0.3988635\ttotal: 1.02s\tremaining: 2.37s\n",
      "51:\tlearn: 0.3988091\ttotal: 1.03s\tremaining: 2.33s\n",
      "52:\tlearn: 0.3984069\ttotal: 1.05s\tremaining: 2.32s\n",
      "53:\tlearn: 0.3977100\ttotal: 1.07s\tremaining: 2.3s\n",
      "54:\tlearn: 0.3975259\ttotal: 1.08s\tremaining: 2.26s\n",
      "55:\tlearn: 0.3967951\ttotal: 1.1s\tremaining: 2.24s\n",
      "56:\tlearn: 0.3966509\ttotal: 1.12s\tremaining: 2.23s\n",
      "57:\tlearn: 0.3961784\ttotal: 1.14s\tremaining: 2.21s\n",
      "58:\tlearn: 0.3958421\ttotal: 1.16s\tremaining: 2.19s\n",
      "59:\tlearn: 0.3957529\ttotal: 1.18s\tremaining: 2.16s\n",
      "60:\tlearn: 0.3952493\ttotal: 1.2s\tremaining: 2.15s\n",
      "61:\tlearn: 0.3951354\ttotal: 1.21s\tremaining: 2.1s\n",
      "62:\tlearn: 0.3950537\ttotal: 1.23s\tremaining: 2.08s\n",
      "63:\tlearn: 0.3944982\ttotal: 1.25s\tremaining: 2.07s\n",
      "64:\tlearn: 0.3941664\ttotal: 1.27s\tremaining: 2.05s\n",
      "65:\tlearn: 0.3940487\ttotal: 1.28s\tremaining: 2.02s\n",
      "66:\tlearn: 0.3940020\ttotal: 1.29s\tremaining: 1.99s\n",
      "67:\tlearn: 0.3938748\ttotal: 1.31s\tremaining: 1.97s\n",
      "68:\tlearn: 0.3937518\ttotal: 1.33s\tremaining: 1.95s\n",
      "69:\tlearn: 0.3935559\ttotal: 1.35s\tremaining: 1.93s\n",
      "70:\tlearn: 0.3935238\ttotal: 1.37s\tremaining: 1.91s\n",
      "71:\tlearn: 0.3935103\ttotal: 1.39s\tremaining: 1.89s\n",
      "72:\tlearn: 0.3933761\ttotal: 1.41s\tremaining: 1.87s\n",
      "73:\tlearn: 0.3932647\ttotal: 1.43s\tremaining: 1.86s\n",
      "74:\tlearn: 0.3928103\ttotal: 1.45s\tremaining: 1.84s\n",
      "75:\tlearn: 0.3925073\ttotal: 1.47s\tremaining: 1.82s\n",
      "76:\tlearn: 0.3923287\ttotal: 1.49s\tremaining: 1.8s\n",
      "77:\tlearn: 0.3918538\ttotal: 1.51s\tremaining: 1.79s\n",
      "78:\tlearn: 0.3918005\ttotal: 1.53s\tremaining: 1.77s\n",
      "79:\tlearn: 0.3917827\ttotal: 1.55s\tremaining: 1.75s\n",
      "80:\tlearn: 0.3913788\ttotal: 1.57s\tremaining: 1.73s\n",
      "81:\tlearn: 0.3911671\ttotal: 1.6s\tremaining: 1.71s\n",
      "82:\tlearn: 0.3911203\ttotal: 1.62s\tremaining: 1.7s\n",
      "83:\tlearn: 0.3910894\ttotal: 1.64s\tremaining: 1.68s\n",
      "84:\tlearn: 0.3906271\ttotal: 1.66s\tremaining: 1.66s\n",
      "85:\tlearn: 0.3901872\ttotal: 1.68s\tremaining: 1.64s\n",
      "86:\tlearn: 0.3901199\ttotal: 1.69s\tremaining: 1.61s\n",
      "87:\tlearn: 0.3897652\ttotal: 1.71s\tremaining: 1.59s\n",
      "88:\tlearn: 0.3895931\ttotal: 1.73s\tremaining: 1.57s\n",
      "89:\tlearn: 0.3895756\ttotal: 1.75s\tremaining: 1.56s\n",
      "90:\tlearn: 0.3893369\ttotal: 1.77s\tremaining: 1.54s\n",
      "91:\tlearn: 0.3892532\ttotal: 1.79s\tremaining: 1.52s\n",
      "92:\tlearn: 0.3889481\ttotal: 1.81s\tremaining: 1.5s\n",
      "93:\tlearn: 0.3888093\ttotal: 1.84s\tremaining: 1.48s\n",
      "94:\tlearn: 0.3887007\ttotal: 1.86s\tremaining: 1.47s\n",
      "95:\tlearn: 0.3886219\ttotal: 1.88s\tremaining: 1.45s\n",
      "96:\tlearn: 0.3884865\ttotal: 1.9s\tremaining: 1.43s\n",
      "97:\tlearn: 0.3883675\ttotal: 1.92s\tremaining: 1.41s\n",
      "98:\tlearn: 0.3882343\ttotal: 1.94s\tremaining: 1.39s\n",
      "99:\tlearn: 0.3880335\ttotal: 1.96s\tremaining: 1.37s\n",
      "100:\tlearn: 0.3877333\ttotal: 1.98s\tremaining: 1.35s\n",
      "101:\tlearn: 0.3874971\ttotal: 2s\tremaining: 1.33s\n",
      "102:\tlearn: 0.3874671\ttotal: 2.02s\tremaining: 1.31s\n",
      "103:\tlearn: 0.3868223\ttotal: 2.05s\tremaining: 1.3s\n",
      "104:\tlearn: 0.3866011\ttotal: 2.07s\tremaining: 1.28s\n",
      "105:\tlearn: 0.3865687\ttotal: 2.09s\tremaining: 1.26s\n",
      "106:\tlearn: 0.3861018\ttotal: 2.11s\tremaining: 1.24s\n",
      "107:\tlearn: 0.3860783\ttotal: 2.13s\tremaining: 1.23s\n",
      "108:\tlearn: 0.3859393\ttotal: 2.15s\tremaining: 1.21s\n",
      "109:\tlearn: 0.3855808\ttotal: 2.17s\tremaining: 1.19s\n",
      "110:\tlearn: 0.3853816\ttotal: 2.19s\tremaining: 1.17s\n",
      "111:\tlearn: 0.3846553\ttotal: 2.22s\tremaining: 1.15s\n",
      "112:\tlearn: 0.3843557\ttotal: 2.24s\tremaining: 1.13s\n",
      "113:\tlearn: 0.3841412\ttotal: 2.26s\tremaining: 1.11s\n",
      "114:\tlearn: 0.3836143\ttotal: 2.29s\tremaining: 1.09s\n",
      "115:\tlearn: 0.3835229\ttotal: 2.31s\tremaining: 1.07s\n",
      "116:\tlearn: 0.3834450\ttotal: 2.33s\tremaining: 1.05s\n",
      "117:\tlearn: 0.3829770\ttotal: 2.35s\tremaining: 1.03s\n",
      "118:\tlearn: 0.3827911\ttotal: 2.37s\tremaining: 1.01s\n",
      "119:\tlearn: 0.3825831\ttotal: 2.39s\tremaining: 996ms\n",
      "120:\tlearn: 0.3824136\ttotal: 2.41s\tremaining: 976ms\n",
      "121:\tlearn: 0.3821883\ttotal: 2.43s\tremaining: 957ms\n",
      "122:\tlearn: 0.3820494\ttotal: 2.45s\tremaining: 937ms\n",
      "123:\tlearn: 0.3815193\ttotal: 2.48s\tremaining: 918ms\n",
      "124:\tlearn: 0.3813177\ttotal: 2.5s\tremaining: 899ms\n",
      "125:\tlearn: 0.3811665\ttotal: 2.52s\tremaining: 879ms\n",
      "126:\tlearn: 0.3810341\ttotal: 2.54s\tremaining: 860ms\n",
      "127:\tlearn: 0.3808190\ttotal: 2.56s\tremaining: 840ms\n",
      "128:\tlearn: 0.3807725\ttotal: 2.58s\tremaining: 821ms\n",
      "129:\tlearn: 0.3805300\ttotal: 2.6s\tremaining: 801ms\n",
      "130:\tlearn: 0.3803720\ttotal: 2.62s\tremaining: 781ms\n",
      "131:\tlearn: 0.3801775\ttotal: 2.64s\tremaining: 761ms\n",
      "132:\tlearn: 0.3799975\ttotal: 2.66s\tremaining: 741ms\n",
      "133:\tlearn: 0.3798259\ttotal: 2.69s\tremaining: 722ms\n",
      "134:\tlearn: 0.3797286\ttotal: 2.71s\tremaining: 702ms\n",
      "135:\tlearn: 0.3791070\ttotal: 2.73s\tremaining: 682ms\n",
      "136:\tlearn: 0.3789586\ttotal: 2.75s\tremaining: 662ms\n",
      "137:\tlearn: 0.3786849\ttotal: 2.77s\tremaining: 642ms\n",
      "138:\tlearn: 0.3784743\ttotal: 2.79s\tremaining: 622ms\n",
      "139:\tlearn: 0.3783922\ttotal: 2.81s\tremaining: 602ms\n",
      "140:\tlearn: 0.3783598\ttotal: 2.83s\tremaining: 582ms\n",
      "141:\tlearn: 0.3783070\ttotal: 2.85s\tremaining: 562ms\n",
      "142:\tlearn: 0.3782700\ttotal: 2.87s\tremaining: 542ms\n",
      "143:\tlearn: 0.3781839\ttotal: 2.89s\tremaining: 522ms\n",
      "144:\tlearn: 0.3781352\ttotal: 2.91s\tremaining: 503ms\n",
      "145:\tlearn: 0.3780158\ttotal: 2.94s\tremaining: 482ms\n",
      "146:\tlearn: 0.3777568\ttotal: 2.96s\tremaining: 462ms\n",
      "147:\tlearn: 0.3777046\ttotal: 2.98s\tremaining: 442ms\n",
      "148:\tlearn: 0.3775438\ttotal: 3s\tremaining: 422ms\n",
      "149:\tlearn: 0.3774637\ttotal: 3.02s\tremaining: 402ms\n",
      "150:\tlearn: 0.3773933\ttotal: 3.04s\tremaining: 382ms\n",
      "151:\tlearn: 0.3773504\ttotal: 3.06s\tremaining: 362ms\n",
      "152:\tlearn: 0.3771897\ttotal: 3.08s\tremaining: 342ms\n",
      "153:\tlearn: 0.3770631\ttotal: 3.1s\tremaining: 322ms\n",
      "154:\tlearn: 0.3769811\ttotal: 3.12s\tremaining: 302ms\n",
      "155:\tlearn: 0.3766521\ttotal: 3.15s\tremaining: 282ms\n",
      "156:\tlearn: 0.3763926\ttotal: 3.17s\tremaining: 262ms\n",
      "157:\tlearn: 0.3762886\ttotal: 3.19s\tremaining: 242ms\n",
      "158:\tlearn: 0.3761396\ttotal: 3.21s\tremaining: 222ms\n",
      "159:\tlearn: 0.3757712\ttotal: 3.23s\tremaining: 202ms\n",
      "160:\tlearn: 0.3756773\ttotal: 3.25s\tremaining: 181ms\n",
      "161:\tlearn: 0.3756344\ttotal: 3.27s\tremaining: 161ms\n",
      "162:\tlearn: 0.3754115\ttotal: 3.29s\tremaining: 141ms\n"
     ]
    },
    {
     "name": "stdout",
     "output_type": "stream",
     "text": [
      "163:\tlearn: 0.3753562\ttotal: 3.31s\tremaining: 121ms\n",
      "164:\tlearn: 0.3751592\ttotal: 3.33s\tremaining: 101ms\n",
      "165:\tlearn: 0.3748429\ttotal: 3.35s\tremaining: 80.8ms\n",
      "166:\tlearn: 0.3747580\ttotal: 3.37s\tremaining: 60.6ms\n",
      "167:\tlearn: 0.3744327\ttotal: 3.39s\tremaining: 40.4ms\n",
      "168:\tlearn: 0.3743720\ttotal: 3.41s\tremaining: 20.2ms\n",
      "169:\tlearn: 0.3743144\ttotal: 3.43s\tremaining: 0us\n"
     ]
    }
   ],
   "source": [
    "boosting_model = catboost.CatBoostClassifier(n_estimators=170, \n",
    "                                             cat_features=cat_cols,\n",
    "                                             learning_rate = 0.096)\n",
    "\n",
    "boosting_model.fit(X_train, y_train)\n",
    "\n",
    "y_train_predicted = boosting_model.predict_proba(X_train)[:, 1]\n",
    "y_test_predicted = boosting_model.predict_proba(X_valid)[:, 1]"
   ]
  },
  {
   "cell_type": "code",
   "execution_count": 345,
   "metadata": {},
   "outputs": [
    {
     "data": {
      "image/png": "[encoded data removed]",
      "text/plain": [
       "<Figure size 720x504 with 1 Axes>"
      ]
     },
     "metadata": {
      "needs_background": "light"
     },
     "output_type": "display_data"
    }
   ],
   "source": [
    "train_auc = roc_auc_score(y_train, y_train_predicted)\n",
    "test_auc = roc_auc_score(y_test, y_test_predicted)\n",
    "\n",
    "plt.figure(figsize=(10,7))\n",
    "plt.plot(*roc_curve(y_train, y_train_predicted)[:2], label='train AUC={:.4f}'.format(train_auc))\n",
    "plt.plot(*roc_curve(y_test, y_test_predicted)[:2], label='test AUC={:.4f}'.format(test_auc))\n",
    "legend_box = plt.legend(fontsize='large', framealpha=1).get_frame()\n",
    "legend_box.set_facecolor(\"white\")\n",
    "legend_box.set_edgecolor(\"black\")\n",
    "plt.plot(np.linspace(0,1,100), np.linspace(0,1,100))\n",
    "plt.show()"
   ]
  },
  {
   "cell_type": "markdown",
   "metadata": {
    "id": "rf4Kjt96EEZU"
   },
   "source": [
    "Выпишите какое лучшее качество и с какими параметрами вам удалось получить"
   ]
  },
  {
   "cell_type": "markdown",
   "metadata": {
    "id": "d2d9GolXEEZV"
   },
   "source": []
  },
  {
   "cell_type": "markdown",
   "metadata": {
    "id": "dDMXbvNZEEZV"
   },
   "source": [
    "# Предсказания"
   ]
  },
  {
   "cell_type": "code",
   "execution_count": 346,
   "metadata": {
    "id": "G_P4wFNaEEZW",
    "outputId": "1fba5dfc-88e4-49e3-ed8a-afe21ae3325a"
   },
   "outputs": [],
   "source": [
    "best_model = boosting_model"
   ]
  },
  {
   "cell_type": "code",
   "execution_count": 411,
   "metadata": {
    "id": "FfSufx0CEEZZ"
   },
   "outputs": [],
   "source": [
    "X_test = pd.read_csv('./test.csv')\n",
    "submission = pd.read_csv('./submission.csv')\n",
    "\n",
    "submission['Churn'] = best_model.predict_proba(X_test)[:, 1]\n",
    "submission.to_csv('./my_submission.csv', index = False)"
   ]
  },
  {
   "cell_type": "code",
   "execution_count": 406,
   "metadata": {},
   "outputs": [
    {
     "data": {
      "text/plain": [
       "array([[0.95511793, 0.04488207],\n",
       "       [0.24598892, 0.75401108],\n",
       "       [0.31624886, 0.68375114],\n",
       "       ...,\n",
       "       [0.1160141 , 0.8839859 ],\n",
       "       [0.421944  , 0.578056  ],\n",
       "       [0.98548551, 0.01451449]])"
      ]
     },
     "execution_count": 406,
     "metadata": {},
     "output_type": "execute_result"
    }
   ],
   "source": [
    "best_model.predict_proba(X_test)"
   ]
  },
  {
   "cell_type": "code",
   "execution_count": 404,
   "metadata": {},
   "outputs": [
    {
     "data": {
      "text/plain": [
       "array([0.04488207, 0.75401108, 0.68375114, ..., 0.8839859 , 0.578056  ,\n",
       "       0.01451449])"
      ]
     },
     "execution_count": 404,
     "metadata": {},
     "output_type": "execute_result"
    }
   ],
   "source": [
    "best_model.predict_proba(X_test)[:,1]"
   ]
  },
  {
   "cell_type": "code",
   "execution_count": 398,
   "metadata": {},
   "outputs": [
    {
     "data": {
      "text/plain": [
       "array([0, 1, 1, ..., 1, 1, 0], dtype=int64)"
      ]
     },
     "execution_count": 398,
     "metadata": {},
     "output_type": "execute_result"
    }
   ],
   "source": [
    "best_model.predict(X_test)"
   ]
  },
  {
   "cell_type": "code",
   "execution_count": 412,
   "metadata": {},
   "outputs": [
    {
     "data": {
      "text/plain": [
       "0       0.044882\n",
       "1       0.754011\n",
       "2       0.683751\n",
       "3       0.013429\n",
       "4       0.008818\n",
       "          ...   \n",
       "1756    0.104618\n",
       "1757    0.018096\n",
       "1758    0.883986\n",
       "1759    0.578056\n",
       "1760    0.014514\n",
       "Name: Churn, Length: 1761, dtype: float64"
      ]
     },
     "execution_count": 412,
     "metadata": {},
     "output_type": "execute_result"
    }
   ],
   "source": [
    "submission['Churn']"
   ]
  },
  {
   "cell_type": "code",
   "execution_count": 409,
   "metadata": {},
   "outputs": [],
   "source": [
    "submission['Churn'] = submission['Churn'].replace([np.inf, -np.inf], 0)"
   ]
  },
  {
   "cell_type": "code",
   "execution_count": 410,
   "metadata": {},
   "outputs": [],
   "source": [
    "submission.to_csv('./my_submission.csv', index = False)"
   ]
  },
  {
   "cell_type": "markdown",
   "metadata": {
    "id": "mkxjbGkVEEZc"
   },
   "source": [
    "# Kaggle (5 баллов)\n",
    "\n",
    "Как выставить баллы:\n",
    "\n",
    "1) 1 >= roc auc > 0.84 это 5 баллов\n",
    "\n",
    "2) 0.84 >= roc auc > 0.7 это 3 балла\n",
    "\n",
    "3) 0.7 >= roc auc > 0.6 это 1 балл\n",
    "\n",
    "4) 0.6 >= roc auc это 0 баллов\n",
    "\n",
    "\n",
    "Для выполнения задания необходимо выполнить следующие шаги.\n",
    "* Зарегистрироваться на платформе [kaggle.com](kaggle.com). Процесс выставления оценок будет проходить при подведении итогового рейтинга. Пожалуйста, укажите во вкладке Team -> Team name свои имя и фамилию в формате Имя_Фамилия (важно, чтобы имя и фамилия совпадали с данными на Stepik).\n",
    "* Обучить модель, получить файл с ответами в формате .csv и сдать его в конкурс. Пробуйте и экспериментируйте. Обратите внимание, что вы можете выполнять до 20 попыток сдачи на kaggle в день.\n",
    "* После окончания соревнования отправить в итоговый ноутбук с решением на степик. \n",
    "* После дедлайна проверьте посылки других участников по критериям. Для этого надо зайти на степик, скачать их ноутбук и проверить скор в соревновании."
   ]
  }
 ],
 "metadata": {
  "colab": {
   "collapsed_sections": [],
   "name": "baseline.ipynb",
   "provenance": []
  },
  "kernelspec": {
   "display_name": "Python 3",
   "language": "python",
   "name": "python3"
  },
  "language_info": {
   "codemirror_mode": {
    "name": "ipython",
    "version": 3
   },
   "file_extension": ".py",
   "mimetype": "text/x-python",
   "name": "python",
   "nbconvert_exporter": "python",
   "pygments_lexer": "ipython3",
   "version": "3.8.5"
  }
 },
 "nbformat": 4,
 "nbformat_minor": 1
}
